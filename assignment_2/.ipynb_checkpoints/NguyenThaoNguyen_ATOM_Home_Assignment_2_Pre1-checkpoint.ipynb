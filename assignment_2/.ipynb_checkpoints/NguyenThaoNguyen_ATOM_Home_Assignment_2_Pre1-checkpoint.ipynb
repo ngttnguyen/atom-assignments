{
 "cells": [
  {
   "cell_type": "code",
   "execution_count": 1,
   "metadata": {},
   "outputs": [],
   "source": [
    "import email, smtplib, ssl # to automate email\n",
    "import email as mail\n",
    "from email import encoders\n",
    "from email.mime.base import MIMEBase\n",
    "from email.mime.multipart import MIMEMultipart\n",
    "from email.mime.text import MIMEText\n",
    "\n",
    "import os,requests, json # to pull API, and work with json\n",
    "import datetime as dt # to work with date, time\n",
    "from bs4 import BeautifulSoup # to work with web scrapping (HTML)\n",
    "import pandas as pd # to work with tables (DataFrames) data\n",
    "from IPython.core.display import HTML # to display HTML in the notebook\n",
    "import pandas as pd\n"
   ]
  },
  {
   "cell_type": "markdown",
   "metadata": {},
   "source": [
    "# ENVIRONTMENT VARIABLES - JSON - EMAIL BOT\n",
    "TODO#1 \n",
    "TODO#2"
   ]
  },
  {
   "cell_type": "code",
   "execution_count": 3,
   "metadata": {},
   "outputs": [],
   "source": [
    "\n",
    "# #  Environment Variables \n",
    "def load_Environ_Variables(json_filename):\n",
    "    try:\n",
    "        with open(json_filename, 'r') as j:\n",
    "            json_data = json.load(j)\n",
    "            print('Get json data!') \n",
    "                \n",
    "            os.environ['SENDER_EMAIL'] = json_data['SENDER_EMAIL'] ## INPUT: Your Email\n",
    "            os.environ['PWD_EMAIL'] = json_data['PWD_EMAIL'] ## INPUT: Your App Password\n",
    "            os.environ['WEATHER_API_KEY'] = json_data['WEATHER_API_KEY'] ## INPUT: OpenWeather API Key\n",
    "            print('Get Env. Variable')\n",
    "    except:\n",
    "        print('Something went wrong')\n",
    "\n",
    "# #  Create Body part function\n",
    "def init_emailbody():\n",
    "\n",
    "    html1 = \"\"\"\n",
    "        <html>\n",
    "        <h1><strong>Hello World</strong></h1>\n",
    "        <body>\n",
    "        <p>Hi!<br>\n",
    "           How are you?<br>\n",
    "           Here is the <a href=\"https://docs.python.org/3.4/library/email-examples.html\">link</a> you wanted.\n",
    "        </p>\n",
    "        </body>\n",
    "        </html>\n",
    "        \"\"\"\n",
    "    html2 = \"\"\"\n",
    "    <html>\n",
    "    Email sent at <b>{}</b><br>\n",
    "    </html>\n",
    "    \"\"\".format(dt.datetime.now().isoformat())\n",
    "\n",
    "    text3 = '--- End ----'\n",
    "    \n",
    "    # Combine parts\n",
    "    part1 = MIMEText(html1, 'html')\n",
    "    part2 = MIMEText(html2, 'html')\n",
    "    part3 = MIMEText(text3, 'plain')   \n",
    "    return(part1, part2, part3)\n",
    "    \n",
    "## function send_email:\n",
    "#inputs: subject, receiver_email, part1, part2, part3\n",
    "#output: thực hiện việc gửi email và in ra kết quả\n",
    "def send_email(subject, receiver_email, part1, part2, part3):\n",
    "    \n",
    "    sender_email = os.environ['SENDER_EMAIL']\n",
    "    password = os.environ['PWD_EMAIL']\n",
    "    # (1) Create the email head (sender, receiver, and subject)\n",
    "    email = MIMEMultipart()\n",
    "    email['From'] = sender_email\n",
    "    email['To'] = receiver_email\n",
    "    email['Subject'] = subject\n",
    "    \n",
    "    # (2) Attach parts\n",
    "    email.attach(part1)\n",
    "    email.attach(part2)\n",
    "    email.attach(part3)\n",
    "    \n",
    "    # (3) Create SMTP session for sending the mail\n",
    "    try:\n",
    "        session = smtplib.SMTP('smtp.gmail.com', 587) #use gmail with port\n",
    "        session.starttls() #enable security\n",
    "        session.login(sender_email, password) #login with mail_id and password\n",
    "        text = email.as_string()\n",
    "        session.sendmail(sender_email, receiver_email, text)\n",
    "        print(\"Mail Sent to {}\".format(receiver_email))\n",
    "        return(1)\n",
    "    except:\n",
    "        print(\"Could not send mail to {}\".format(receiver_email))\n",
    "        return(0)\n",
    "\n",
    "    \n",
    "## function send_listEmai:\n",
    "#inputs: subject, receiver_lis, part1, part2, part3\n",
    "#output: thực hiện việc gửi email và in ra kết quả    \n",
    "def send_listEmail(subject, receiver_list, part1, part2, part3):\n",
    "    \n",
    "    # (1) Create the email head (sender, receiver, and subject)\n",
    "    email = MIMEMultipart()\n",
    "    email['From'] = sender_email\n",
    "    email['Subject'] = subject\n",
    "    \n",
    "    # (2) Attach parts\n",
    "    email.attach(part1)\n",
    "    email.attach(part2)\n",
    "    email.attach(part3)\n",
    "    \n",
    "    # (3) Create SMTP session for sending the mail\n",
    "    try:\n",
    "        session = smtplib.SMTP('smtp.gmail.com', 587) #use gmail with port\n",
    "        session.starttls() #enable security\n",
    "        session.login(sender_email, password) #login with mail_id and password\n",
    "        \n",
    "        for receiver_email in receiver_list:\n",
    "            email['To'] = receiver_email\n",
    "            text = email.as_string()\n",
    "            session.sendmail(sender_email, receiver_email, text)\n",
    "            print(\"Mail Sent to {}\".format(receiver_email))\n",
    "        return(1)\n",
    "    except:\n",
    "        print(\"Could not send mail to {}\".format(receiver_email))\n",
    "        return(0)\n",
    "\n",
    "# def send_email1(subject, receiver_email, email_part_list):\n",
    "    \n",
    "#     sender_email = os.environ['SENDER_EMAIL']\n",
    "#     receiver_email = os.environ['PWD_EMAIL']\n",
    "#     # (1) Create the email head (sender, receiver, and subject)\n",
    "#     email = MIMEMultipart()\n",
    "#     email['From'] = sender_email\n",
    "#     email['To'] = receiver_email\n",
    "#     email['Subject'] = subject\n",
    "    \n",
    "#     # (2) Attach parts\n",
    "#     for part in email_part_list:\n",
    "#         email.attach(part)\n",
    "    \n",
    "#     # (3) Create SMTP session for sending the mail\n",
    "#     try:\n",
    "#         session = smtplib.SMTP('smtp.gmail.com', 587) #use gmail with port\n",
    "#         session.starttls() #enable security\n",
    "#         session.login(sender_email, password) #login with mail_id and password\n",
    "#         text = email.as_string()\n",
    "#         session.sendmail(sender_email, receiver_email, text)\n",
    "#         return(1)\n",
    "#     except:\n",
    "#         return(0)\n",
    "    \n"
   ]
  },
  {
   "cell_type": "code",
   "execution_count": 4,
   "metadata": {},
   "outputs": [
    {
     "name": "stdout",
     "output_type": "stream",
     "text": [
      "Get json data!\n",
      "Get Env. Variable\n",
      "ntt.nguyen8381@gmail.com\n"
     ]
    }
   ],
   "source": [
    "# TODO #1\n",
    "## 1.Gọi biến SENDER_EMAIL trong file json và print\n",
    "\n",
    "# Load environment variables from json file\n",
    "env_filename = 'env_variable.json'\n",
    "load_Environ_Variables(env_filename)\n",
    "\n",
    "print(os.environ['SENDER_EMAIL'])\n",
    "#print(os.environ['PWD_EMAIL'])"
   ]
  },
  {
   "cell_type": "code",
   "execution_count": 6,
   "metadata": {},
   "outputs": [
    {
     "name": "stdout",
     "output_type": "stream",
     "text": [
      "Get json data!\n",
      "Get Env. Variable\n",
      "Mail Sent to ngttnguyen@gmail.com\n",
      "Mail Sent to hoangnguyena2@yahoo.com\n"
     ]
    },
    {
     "data": {
      "text/plain": [
       "1"
      ]
     },
     "execution_count": 6,
     "metadata": {},
     "output_type": "execute_result"
    }
   ],
   "source": [
    "# TODO #2\n",
    "# 2.GỬi cùng nội dung email đến 1 list user\n",
    "# # Dùng send_email()\n",
    "\n",
    "# Load environment variables from json file\n",
    "env_filename = 'env_variable.json'\n",
    "load_Environ_Variables(env_filename)\n",
    "sender_email = os.environ['SENDER_EMAIL']\n",
    "password = os.environ['PWD_EMAIL']\n",
    "\n",
    "receiver_list = ['ngttnguyen@gmail.com', 'hoangnguyena2@yahoo.com']\n",
    "subject = 'ATOM_Assignment2'\n",
    "\n",
    "# Create the email body    \n",
    "part1, part2, part3 = init_emailbody()\n",
    "\n",
    "# send email to receiver list\n",
    "# for receiver in receiver_list:\n",
    "#     send_email(subject, receiver, part1, part2, part3)\n",
    "\n",
    "send_listEmail(subject, receiver_list, part1, part2, part3)\n",
    "    "
   ]
  },
  {
   "cell_type": "code",
   "execution_count": 7,
   "metadata": {},
   "outputs": [
    {
     "name": "stdout",
     "output_type": "stream",
     "text": [
      "Get json data!\n",
      "Get Env. Variable\n",
      "Mail Sent to ngttnguyen@gmail.com\n",
      "Mail Sent to hoangnguyena2@yahoo.com\n"
     ]
    },
    {
     "data": {
      "text/plain": [
       "1"
      ]
     },
     "execution_count": 7,
     "metadata": {},
     "output_type": "execute_result"
    }
   ],
   "source": [
    "# TODO #2\n",
    "# GỬi cùng nội dung email đến 1 list user\n",
    "# Dùng send_listEmail()\n",
    "\n",
    "receiver_list = ['ngttnguyen@gmail.com', 'hoangnguyena2@yahoo.com']\n",
    "subject = 'ATOM_Assignment3'\n",
    "\n",
    "env_filename = 'env_variable.json'\n",
    "\n",
    "# Load environment variables from json file\n",
    "load_Environ_Variables(env_filename)\n",
    "sender_email = os.environ['SENDER_EMAIL']\n",
    "password = os.environ['PWD_EMAIL']\n",
    "  \n",
    "# Create the email body    \n",
    "part1, part2, part3 = init_emailbody()\n",
    "send_listEmail(subject, receiver_list, part1, part2, part3)"
   ]
  },
  {
   "cell_type": "markdown",
   "metadata": {},
   "source": [
    "# API\n",
    "#TODO #3"
   ]
  },
  {
   "cell_type": "code",
   "execution_count": 8,
   "metadata": {},
   "outputs": [],
   "source": [
    "### --------- FUNCTION for weather API \n",
    "\n",
    "# 1.function request to get Weather API\n",
    "#   inputs: city\n",
    "#   outputs: response of requested API được trả về\n",
    "def get_weatherAPI(city):\n",
    "    BASE_URL = \"https://api.openweathermap.org/data/2.5/weather?\"\n",
    "    # get API KEY\n",
    "    API_KEY = os.environ['WEATHER_API_KEY']\n",
    "    # upadting the URL\n",
    "    # api.openweathermap.org/data/2.5/weather?q={city name}&appid={API key}\n",
    "    URL = BASE_URL + \"q=\" + city +\"&appid=\" + API_KEY\n",
    "    # HTTP request\n",
    "    respone =  requests.get(URL)\n",
    "    return(respone)\n",
    "    \n",
    "# 2.function get_weather_data\n",
    "#   inputs: city : thành phố cần lấy thông tin về thời tiết\n",
    "#   outputs: đoạn text thông tin thời tiết\n",
    "def get_weather_data(city):\n",
    "    # YOUR CODE \n",
    "    response = get_weatherAPI(city)     \n",
    "    # checking the status code of the request\n",
    "    if response.status_code == 200:\n",
    "        # getting data in the json format\n",
    "        data = response.json()\n",
    "        # getting the main dict block\n",
    "        main = data['main']\n",
    "        # getting temperature\n",
    "        temperature = main['temp']\n",
    "        # getting the humidity\n",
    "        humidity = main['humidity']\n",
    "        # getting the pressure\n",
    "        pressure = main['pressure']\n",
    "        # weather report\n",
    "        report = data['weather']\n",
    "        main_report = report[0]['description']\n",
    "        \n",
    "        # composing the weather text\n",
    "        output = f\"The main weather of {city} is {main_report}.\\nThe average temperature is {temperature}, the humidity is {humidity} and the pressure is {pressure}.\"\n",
    "\n",
    "    else:\n",
    "       # showing the error message\n",
    "       output = \"Error in the HTTP request\" +\"\\n\" + str(respone)\n",
    "    return(output)"
   ]
  },
  {
   "cell_type": "code",
   "execution_count": 9,
   "metadata": {},
   "outputs": [
    {
     "name": "stdout",
     "output_type": "stream",
     "text": [
      "Longtitude and Latitude of London is -0.1257 and 51.5085\n",
      "The main weather of London is Clouds \n"
     ]
    }
   ],
   "source": [
    "# TODO #3\n",
    "# 1. Lấy thông tin trạng thái thời tiết (weather) chính (main) ở London\n",
    "#    Lấy lat & lon (kinh độ và vĩ độ của London)\n",
    "\n",
    "city = 'London'\n",
    "response = get_weatherAPI(city)\n",
    "if response.status_code == 200:\n",
    "    data = response.json()\n",
    "    main_weather = data['weather'][0]['main']\n",
    "    lat = data['coord']['lat']\n",
    "    lon = data['coord']['lon']\n",
    "\n",
    "    print(\"Longtitude and Latitude of {} is {} and {}\".format(city,lon,lat))\n",
    "    print(f\"The main weather of {city} is {main_weather} \")"
   ]
  },
  {
   "cell_type": "code",
   "execution_count": 10,
   "metadata": {},
   "outputs": [
    {
     "name": "stdout",
     "output_type": "stream",
     "text": [
      "Get json data!\n",
      "Get Env. Variable\n",
      "Your email: ngttnguyen@gmail.com\n",
      "Mail Sent to ngttnguyen@gmail.com\n"
     ]
    },
    {
     "data": {
      "text/plain": [
       "1"
      ]
     },
     "execution_count": 10,
     "metadata": {},
     "output_type": "execute_result"
    }
   ],
   "source": [
    "# TODO #3\n",
    "# 2. Viết function get_weather_data()\n",
    "# 3. Gởi email bằng thông tin thời tiết của London gửi cho 1 địa chỉ email của bạn\n",
    "\n",
    "# Load environment variables from json file\n",
    "env_filename = 'env_variable.json'\n",
    "city = 'California'\n",
    "load_Environ_Variables(env_filename)\n",
    "    \n",
    "# init 3 parts of email\n",
    "part1, part2, part3 = init_emailbody()\n",
    "\n",
    "# get weather data\n",
    "text3 = get_weather_data(city)\n",
    "part3 = MIMEText(text3, 'plain')\n",
    "    \n",
    "# send mail\n",
    "weather_subject = f\"Weather information of {city}\" #INPUT1: Subject of the Email\n",
    "receiver = input(\"Your email: \") #INPUT2: email address to receive the email\n",
    "send_email(weather_subject, receiver, part1, part2, part3)\n"
   ]
  },
  {
   "cell_type": "markdown",
   "metadata": {},
   "source": [
    "# Web Scrapping\n",
    "TODO #4"
   ]
  },
  {
   "cell_type": "code",
   "execution_count": 11,
   "metadata": {},
   "outputs": [],
   "source": [
    "### --------- FUNCTION for Web Scrapping\n",
    "\n",
    "# 1.function request to get Web content\n",
    "#   inputs: url\n",
    "#   outputs: the web content in the HTML format\n",
    "def get_htmlWebContent(URL):\n",
    "    response = requests.get(URL)\n",
    "    if(response.status_code == 200):\n",
    "        soup = BeautifulSoup(response.content, 'html.parser')\n",
    "        return(soup)\n",
    "    else:\n",
    "        print(f\"Could not get the content.\\n HTTP {response.reason_phrase} {response.status_code}\")\n",
    "    "
   ]
  },
  {
   "cell_type": "code",
   "execution_count": 12,
   "metadata": {},
   "outputs": [
    {
     "name": "stdout",
     "output_type": "stream",
     "text": [
      "Your email: ngttnguyen@gmail.com\n",
      "Mail Sent to ngttnguyen@gmail.com\n"
     ]
    },
    {
     "data": {
      "text/plain": [
       "1"
      ]
     },
     "execution_count": 12,
     "metadata": {},
     "output_type": "execute_result"
    }
   ],
   "source": [
    "# TODO #3\n",
    "#Dùng function send_email in Excercise 1.1, \n",
    "#thay phần 3 trong nội dùng email bằng thông tin COVID-19 \n",
    "#từ Wikipedia gửi cho 1 địa chỉ email của bạn\n",
    "\n",
    "URL = \"https://en.wikipedia.org/wiki/COVID-19\"\n",
    "soup = get_htmlWebContent(URL)\n",
    "\n",
    "part1, part2, part3 = init_emailbody()\n",
    "#Composing the part3\n",
    "#Get all the paragraphs\n",
    "p = soup.find(id=\"bodyContent\").find_all(\"p\")\n",
    "part3 = MIMEText(str(p[3]),'html')\n",
    "\n",
    "#send mail\n",
    "news_subject = \"Covid information from WIKI\" #INPUT1: Subject of the Email\n",
    "receiver = input(\"Your email: \") #INPUT2: email address to receive the email\n",
    "\n",
    "send_email(news_subject,receiver, part1, part2, part3)\n",
    "\n"
   ]
  },
  {
   "cell_type": "markdown",
   "metadata": {},
   "source": [
    "# CSV\n",
    "TODO #5\n",
    "Add các địa chỉ email có ý nghĩa, và thêm dòng vào file csv (lưu ý không có dấu cách)\n",
    "Dùng code để gửi email cho một list từ csv:\n",
    "Nếu email có contents = 'News' => Gửi thông tin COVID19\n",
    "Nếu email có contents = 'Weather' => Gửi thông tin thời tiết theo thành phố trong cột city (lưu ý check các city được hỗ trợ trong API)"
   ]
  },
  {
   "cell_type": "code",
   "execution_count": 13,
   "metadata": {},
   "outputs": [
    {
     "name": "stdout",
     "output_type": "stream",
     "text": [
      "COVID To:     ngttnguyen@gmail.com\n",
      "Mail Sent to     ngttnguyen@gmail.com\n",
      "DONE!\n",
      "Weather To:     hoangnguyena2@yahoo.com\n",
      "Mail Sent to     hoangnguyena2@yahoo.com\n",
      "DONE!\n"
     ]
    }
   ],
   "source": [
    "filename = 'email_list.csv'\n",
    "email_list = pd.read_csv(filename)\n",
    "\n",
    "for i in range(len(email_list)):\n",
    "    receiver = email_list['email'][i]\n",
    "    content = email_list['contents'][i]\n",
    "    city = email_list['city'][i]\n",
    "    \n",
    "    if content not in ['News','Weather']:\n",
    "        print('Invalid Contents')\n",
    "    else:\n",
    "\n",
    "        if content == 'News':\n",
    "            print('COVID To: {}'.format(receiver))\n",
    "            subject = \"Covid information from WIKI\"\n",
    "            part3 = MIMEText(str(p[3]), 'html')\n",
    "            \n",
    "\n",
    "        else:\n",
    "            print(\"Weather To: {}\".format(receiver))\n",
    "            subject = f\"Weather information of {city}\"\n",
    "            # get weather data\n",
    "            text3 = get_weather_data(city)\n",
    "            part3 = MIMEText(text3, 'plain')\n",
    "           \n",
    "        send_email(subject,receiver, part1, part2, part3)\n",
    "        print('DONE!')\n",
    "    \n"
   ]
  },
  {
   "cell_type": "code",
   "execution_count": null,
   "metadata": {},
   "outputs": [],
   "source": []
  }
 ],
 "metadata": {
  "kernelspec": {
   "display_name": "Python 3",
   "language": "python",
   "name": "python3"
  },
  "language_info": {
   "codemirror_mode": {
    "name": "ipython",
    "version": 3
   },
   "file_extension": ".py",
   "mimetype": "text/x-python",
   "name": "python",
   "nbconvert_exporter": "python",
   "pygments_lexer": "ipython3",
   "version": "3.8.5"
  }
 },
 "nbformat": 4,
 "nbformat_minor": 4
}
