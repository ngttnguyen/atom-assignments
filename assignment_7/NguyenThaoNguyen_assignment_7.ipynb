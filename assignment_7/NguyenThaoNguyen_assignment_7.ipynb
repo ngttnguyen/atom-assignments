{
 "cells": [
  {
   "cell_type": "markdown",
   "metadata": {},
   "source": [
    "## TODO 1: EDA\n",
    "* Sử dụng bộ data [Kaggle - Ecommerce Customers](https://www.kaggle.com/srolka/ecommerce-customers)\n",
    "\n",
    "## EDA\n",
    "* Univariate Analysis: \n",
    "    - Trình bày các quan sát về phân phối của các biến\n",
    "    - Bộ Data có các điểm nào cần chú ý (để thực hiện trong bước Data Processing)?\n",
    "* Multivariate Analysis: \n",
    "    - Trình bày các tương tác thú vị giữa các biến, giải thích thêm theo ý kiến và suy nghĩ của bạn\n",
    "## Customer Yearly Amount Spent\n",
    "Yếu tố chúng ta quan tâm nhất là `Yearly Amount Spent` (Số tiền giao dịch của khách hàng trong năm)\n",
    "\n",
    "Tự đặt các giả thuyết về yếu tố ảnh hướng (trong bộ data) và làm các bước phân tích, vẽ các biểu đồ để tìm hiểu các giả thuyết đó."
   ]
  },
  {
   "cell_type": "code",
   "execution_count": 148,
   "metadata": {},
   "outputs": [],
   "source": [
    "# Import thư viện\n",
    "import pandas as pd\n",
    "import numpy as np\n",
    "from matplotlib import pyplot as plt\n",
    "import seaborn as sns\n",
    "%matplotlib inline\n",
    "pd.plotting.register_matplotlib_converters()"
   ]
  },
  {
   "cell_type": "code",
   "execution_count": 149,
   "metadata": {},
   "outputs": [
    {
     "data": {
      "text/html": [
       "<div>\n",
       "<style scoped>\n",
       "    .dataframe tbody tr th:only-of-type {\n",
       "        vertical-align: middle;\n",
       "    }\n",
       "\n",
       "    .dataframe tbody tr th {\n",
       "        vertical-align: top;\n",
       "    }\n",
       "\n",
       "    .dataframe thead th {\n",
       "        text-align: right;\n",
       "    }\n",
       "</style>\n",
       "<table border=\"1\" class=\"dataframe\">\n",
       "  <thead>\n",
       "    <tr style=\"text-align: right;\">\n",
       "      <th></th>\n",
       "      <th>Email</th>\n",
       "      <th>Address</th>\n",
       "      <th>Avatar</th>\n",
       "      <th>Avg. Session Length</th>\n",
       "      <th>Time on App</th>\n",
       "      <th>Time on Website</th>\n",
       "      <th>Length of Membership</th>\n",
       "      <th>Yearly Amount Spent</th>\n",
       "    </tr>\n",
       "  </thead>\n",
       "  <tbody>\n",
       "    <tr>\n",
       "      <th>0</th>\n",
       "      <td>mstephenson@fernandez.com</td>\n",
       "      <td>835 Frank Tunnel\\nWrightmouth, MI 82180-9605</td>\n",
       "      <td>Violet</td>\n",
       "      <td>34.497268</td>\n",
       "      <td>12.655651</td>\n",
       "      <td>39.577668</td>\n",
       "      <td>4.082621</td>\n",
       "      <td>587.951054</td>\n",
       "    </tr>\n",
       "    <tr>\n",
       "      <th>1</th>\n",
       "      <td>hduke@hotmail.com</td>\n",
       "      <td>4547 Archer Common\\nDiazchester, CA 06566-8576</td>\n",
       "      <td>DarkGreen</td>\n",
       "      <td>31.926272</td>\n",
       "      <td>11.109461</td>\n",
       "      <td>37.268959</td>\n",
       "      <td>2.664034</td>\n",
       "      <td>392.204933</td>\n",
       "    </tr>\n",
       "  </tbody>\n",
       "</table>\n",
       "</div>"
      ],
      "text/plain": [
       "                       Email                                         Address  \\\n",
       "0  mstephenson@fernandez.com    835 Frank Tunnel\\nWrightmouth, MI 82180-9605   \n",
       "1          hduke@hotmail.com  4547 Archer Common\\nDiazchester, CA 06566-8576   \n",
       "\n",
       "      Avatar  Avg. Session Length  Time on App  Time on Website  \\\n",
       "0     Violet            34.497268    12.655651        39.577668   \n",
       "1  DarkGreen            31.926272    11.109461        37.268959   \n",
       "\n",
       "   Length of Membership  Yearly Amount Spent  \n",
       "0              4.082621           587.951054  \n",
       "1              2.664034           392.204933  "
      ]
     },
     "execution_count": 149,
     "metadata": {},
     "output_type": "execute_result"
    }
   ],
   "source": [
    "# Đọc data\n",
    "data_file_path = \"Ecommerce Customers.csv\"\n",
    "customer_df = pd.read_csv(data_file_path)\n",
    "customer_df.head(2)"
   ]
  },
  {
   "cell_type": "code",
   "execution_count": 161,
   "metadata": {},
   "outputs": [
    {
     "name": "stdout",
     "output_type": "stream",
     "text": [
      "Summary:\n",
      "(500, 8)\n"
     ]
    },
    {
     "data": {
      "text/plain": [
       "Email                    object\n",
       "Address                  object\n",
       "Avatar                   object\n",
       "Avg. Session Length     float64\n",
       "Time on App             float64\n",
       "Time on Website         float64\n",
       "Length of Membership    float64\n",
       "Yearly Amount Spent     float64\n",
       "dtype: object"
      ]
     },
     "execution_count": 161,
     "metadata": {},
     "output_type": "execute_result"
    }
   ],
   "source": [
    "# Summary\n",
    "print('Summary:')\n",
    "print(customer_df.shape)\n",
    "customer_df.dtypes"
   ]
  },
  {
   "cell_type": "code",
   "execution_count": 6,
   "metadata": {},
   "outputs": [
    {
     "name": "stdout",
     "output_type": "stream",
     "text": [
      "Summary:\n"
     ]
    },
    {
     "data": {
      "text/html": [
       "<div>\n",
       "<style scoped>\n",
       "    .dataframe tbody tr th:only-of-type {\n",
       "        vertical-align: middle;\n",
       "    }\n",
       "\n",
       "    .dataframe tbody tr th {\n",
       "        vertical-align: top;\n",
       "    }\n",
       "\n",
       "    .dataframe thead th {\n",
       "        text-align: right;\n",
       "    }\n",
       "</style>\n",
       "<table border=\"1\" class=\"dataframe\">\n",
       "  <thead>\n",
       "    <tr style=\"text-align: right;\">\n",
       "      <th></th>\n",
       "      <th>Email</th>\n",
       "      <th>Address</th>\n",
       "      <th>Avatar</th>\n",
       "      <th>Avg. Session Length</th>\n",
       "      <th>Time on App</th>\n",
       "      <th>Time on Website</th>\n",
       "      <th>Length of Membership</th>\n",
       "      <th>Yearly Amount Spent</th>\n",
       "    </tr>\n",
       "  </thead>\n",
       "  <tbody>\n",
       "    <tr>\n",
       "      <th>count</th>\n",
       "      <td>500</td>\n",
       "      <td>500</td>\n",
       "      <td>500</td>\n",
       "      <td>500.000000</td>\n",
       "      <td>500.000000</td>\n",
       "      <td>500.000000</td>\n",
       "      <td>500.000000</td>\n",
       "      <td>500.000000</td>\n",
       "    </tr>\n",
       "    <tr>\n",
       "      <th>unique</th>\n",
       "      <td>500</td>\n",
       "      <td>500</td>\n",
       "      <td>138</td>\n",
       "      <td>NaN</td>\n",
       "      <td>NaN</td>\n",
       "      <td>NaN</td>\n",
       "      <td>NaN</td>\n",
       "      <td>NaN</td>\n",
       "    </tr>\n",
       "    <tr>\n",
       "      <th>top</th>\n",
       "      <td>katherine20@yahoo.com</td>\n",
       "      <td>USCGC Gill\\nFPO AA 26496</td>\n",
       "      <td>CadetBlue</td>\n",
       "      <td>NaN</td>\n",
       "      <td>NaN</td>\n",
       "      <td>NaN</td>\n",
       "      <td>NaN</td>\n",
       "      <td>NaN</td>\n",
       "    </tr>\n",
       "    <tr>\n",
       "      <th>freq</th>\n",
       "      <td>1</td>\n",
       "      <td>1</td>\n",
       "      <td>7</td>\n",
       "      <td>NaN</td>\n",
       "      <td>NaN</td>\n",
       "      <td>NaN</td>\n",
       "      <td>NaN</td>\n",
       "      <td>NaN</td>\n",
       "    </tr>\n",
       "    <tr>\n",
       "      <th>mean</th>\n",
       "      <td>NaN</td>\n",
       "      <td>NaN</td>\n",
       "      <td>NaN</td>\n",
       "      <td>33.053194</td>\n",
       "      <td>12.052488</td>\n",
       "      <td>37.060445</td>\n",
       "      <td>3.533462</td>\n",
       "      <td>499.314038</td>\n",
       "    </tr>\n",
       "    <tr>\n",
       "      <th>std</th>\n",
       "      <td>NaN</td>\n",
       "      <td>NaN</td>\n",
       "      <td>NaN</td>\n",
       "      <td>0.992563</td>\n",
       "      <td>0.994216</td>\n",
       "      <td>1.010489</td>\n",
       "      <td>0.999278</td>\n",
       "      <td>79.314782</td>\n",
       "    </tr>\n",
       "    <tr>\n",
       "      <th>min</th>\n",
       "      <td>NaN</td>\n",
       "      <td>NaN</td>\n",
       "      <td>NaN</td>\n",
       "      <td>29.532429</td>\n",
       "      <td>8.508152</td>\n",
       "      <td>33.913847</td>\n",
       "      <td>0.269901</td>\n",
       "      <td>256.670582</td>\n",
       "    </tr>\n",
       "    <tr>\n",
       "      <th>25%</th>\n",
       "      <td>NaN</td>\n",
       "      <td>NaN</td>\n",
       "      <td>NaN</td>\n",
       "      <td>32.341822</td>\n",
       "      <td>11.388153</td>\n",
       "      <td>36.349257</td>\n",
       "      <td>2.930450</td>\n",
       "      <td>445.038277</td>\n",
       "    </tr>\n",
       "    <tr>\n",
       "      <th>50%</th>\n",
       "      <td>NaN</td>\n",
       "      <td>NaN</td>\n",
       "      <td>NaN</td>\n",
       "      <td>33.082008</td>\n",
       "      <td>11.983231</td>\n",
       "      <td>37.069367</td>\n",
       "      <td>3.533975</td>\n",
       "      <td>498.887875</td>\n",
       "    </tr>\n",
       "    <tr>\n",
       "      <th>75%</th>\n",
       "      <td>NaN</td>\n",
       "      <td>NaN</td>\n",
       "      <td>NaN</td>\n",
       "      <td>33.711985</td>\n",
       "      <td>12.753850</td>\n",
       "      <td>37.716432</td>\n",
       "      <td>4.126502</td>\n",
       "      <td>549.313828</td>\n",
       "    </tr>\n",
       "    <tr>\n",
       "      <th>95%</th>\n",
       "      <td>NaN</td>\n",
       "      <td>NaN</td>\n",
       "      <td>NaN</td>\n",
       "      <td>34.594109</td>\n",
       "      <td>13.666344</td>\n",
       "      <td>38.776444</td>\n",
       "      <td>5.081393</td>\n",
       "      <td>628.153250</td>\n",
       "    </tr>\n",
       "    <tr>\n",
       "      <th>max</th>\n",
       "      <td>NaN</td>\n",
       "      <td>NaN</td>\n",
       "      <td>NaN</td>\n",
       "      <td>36.139662</td>\n",
       "      <td>15.126994</td>\n",
       "      <td>40.005182</td>\n",
       "      <td>6.922689</td>\n",
       "      <td>765.518462</td>\n",
       "    </tr>\n",
       "  </tbody>\n",
       "</table>\n",
       "</div>"
      ],
      "text/plain": [
       "                        Email                   Address     Avatar  \\\n",
       "count                     500                       500        500   \n",
       "unique                    500                       500        138   \n",
       "top     katherine20@yahoo.com  USCGC Gill\\nFPO AA 26496  CadetBlue   \n",
       "freq                        1                         1          7   \n",
       "mean                      NaN                       NaN        NaN   \n",
       "std                       NaN                       NaN        NaN   \n",
       "min                       NaN                       NaN        NaN   \n",
       "25%                       NaN                       NaN        NaN   \n",
       "50%                       NaN                       NaN        NaN   \n",
       "75%                       NaN                       NaN        NaN   \n",
       "95%                       NaN                       NaN        NaN   \n",
       "max                       NaN                       NaN        NaN   \n",
       "\n",
       "        Avg. Session Length  Time on App  Time on Website  \\\n",
       "count            500.000000   500.000000       500.000000   \n",
       "unique                  NaN          NaN              NaN   \n",
       "top                     NaN          NaN              NaN   \n",
       "freq                    NaN          NaN              NaN   \n",
       "mean              33.053194    12.052488        37.060445   \n",
       "std                0.992563     0.994216         1.010489   \n",
       "min               29.532429     8.508152        33.913847   \n",
       "25%               32.341822    11.388153        36.349257   \n",
       "50%               33.082008    11.983231        37.069367   \n",
       "75%               33.711985    12.753850        37.716432   \n",
       "95%               34.594109    13.666344        38.776444   \n",
       "max               36.139662    15.126994        40.005182   \n",
       "\n",
       "        Length of Membership  Yearly Amount Spent  \n",
       "count             500.000000           500.000000  \n",
       "unique                   NaN                  NaN  \n",
       "top                      NaN                  NaN  \n",
       "freq                     NaN                  NaN  \n",
       "mean                3.533462           499.314038  \n",
       "std                 0.999278            79.314782  \n",
       "min                 0.269901           256.670582  \n",
       "25%                 2.930450           445.038277  \n",
       "50%                 3.533975           498.887875  \n",
       "75%                 4.126502           549.313828  \n",
       "95%                 5.081393           628.153250  \n",
       "max                 6.922689           765.518462  "
      ]
     },
     "execution_count": 6,
     "metadata": {},
     "output_type": "execute_result"
    }
   ],
   "source": [
    "# Summary\n",
    "print('Summary:')\n",
    "customer_df.describe(percentiles= [.25, .5, .75, .95], include='all')"
   ]
  },
  {
   "cell_type": "code",
   "execution_count": 71,
   "metadata": {},
   "outputs": [
    {
     "data": {
      "text/html": [
       "<div>\n",
       "<style scoped>\n",
       "    .dataframe tbody tr th:only-of-type {\n",
       "        vertical-align: middle;\n",
       "    }\n",
       "\n",
       "    .dataframe tbody tr th {\n",
       "        vertical-align: top;\n",
       "    }\n",
       "\n",
       "    .dataframe thead th {\n",
       "        text-align: right;\n",
       "    }\n",
       "</style>\n",
       "<table border=\"1\" class=\"dataframe\">\n",
       "  <thead>\n",
       "    <tr style=\"text-align: right;\">\n",
       "      <th></th>\n",
       "      <th>Total</th>\n",
       "      <th>Percent</th>\n",
       "    </tr>\n",
       "  </thead>\n",
       "  <tbody>\n",
       "    <tr>\n",
       "      <th>Yearly Amount Spent</th>\n",
       "      <td>0</td>\n",
       "      <td>0.0</td>\n",
       "    </tr>\n",
       "    <tr>\n",
       "      <th>Length of Membership</th>\n",
       "      <td>0</td>\n",
       "      <td>0.0</td>\n",
       "    </tr>\n",
       "    <tr>\n",
       "      <th>Time on Website</th>\n",
       "      <td>0</td>\n",
       "      <td>0.0</td>\n",
       "    </tr>\n",
       "    <tr>\n",
       "      <th>Time on App</th>\n",
       "      <td>0</td>\n",
       "      <td>0.0</td>\n",
       "    </tr>\n",
       "    <tr>\n",
       "      <th>Avg. Session Length</th>\n",
       "      <td>0</td>\n",
       "      <td>0.0</td>\n",
       "    </tr>\n",
       "    <tr>\n",
       "      <th>Avatar</th>\n",
       "      <td>0</td>\n",
       "      <td>0.0</td>\n",
       "    </tr>\n",
       "    <tr>\n",
       "      <th>Address</th>\n",
       "      <td>0</td>\n",
       "      <td>0.0</td>\n",
       "    </tr>\n",
       "    <tr>\n",
       "      <th>Email</th>\n",
       "      <td>0</td>\n",
       "      <td>0.0</td>\n",
       "    </tr>\n",
       "  </tbody>\n",
       "</table>\n",
       "</div>"
      ],
      "text/plain": [
       "                      Total  Percent\n",
       "Yearly Amount Spent       0      0.0\n",
       "Length of Membership      0      0.0\n",
       "Time on Website           0      0.0\n",
       "Time on App               0      0.0\n",
       "Avg. Session Length       0      0.0\n",
       "Avatar                    0      0.0\n",
       "Address                   0      0.0\n",
       "Email                     0      0.0"
      ]
     },
     "execution_count": 71,
     "metadata": {},
     "output_type": "execute_result"
    }
   ],
   "source": [
    "# Tỉ lệ Missing\n",
    "def missing_exploration(data):\n",
    "    total = data.isnull().sum().sort_values(ascending=False)\n",
    "    percent = (data.isnull().sum()/data.isnull().count()*100).sort_values(ascending=False)\n",
    "    missing_data = pd.concat([total, percent], axis=1, keys=['Total', 'Percent'])\n",
    "    return missing_data\n",
    "missing_exploration(customer_df)"
   ]
  },
  {
   "cell_type": "code",
   "execution_count": 98,
   "metadata": {},
   "outputs": [
    {
     "name": "stdout",
     "output_type": "stream",
     "text": [
      "['Avg. Session Length', 'Time on App', 'Time on Website', 'Length of Membership', 'Yearly Amount Spent']\n",
      "['Email', 'Address', 'Avatar']\n"
     ]
    }
   ],
   "source": [
    "# Filter columns by dtype numerical or categorical\n",
    "categorical = [col for col in customer_df.columns.tolist() if customer_df[col].dtype == 'object' ]\n",
    "numerical = [col for col in customer_df.columns.tolist() if col not in categorical]"
   ]
  },
  {
   "cell_type": "code",
   "execution_count": 164,
   "metadata": {},
   "outputs": [
    {
     "name": "stderr",
     "output_type": "stream",
     "text": [
      "C:\\ProgramData\\Anaconda3\\lib\\site-packages\\seaborn\\distributions.py:2551: FutureWarning: `distplot` is a deprecated function and will be removed in a future version. Please adapt your code to use either `displot` (a figure-level function with similar flexibility) or `histplot` (an axes-level function for histograms).\n",
      "  warnings.warn(msg, FutureWarning)\n"
     ]
    },
    {
     "data": {
      "image/png": "[encoded data removed]",
      "text/plain": [
       "<Figure size 1440x1080 with 6 Axes>"
      ]
     },
     "metadata": {
      "needs_background": "light"
     },
     "output_type": "display_data"
    }
   ],
   "source": [
    "# Histograms\n",
    "fig, ax = plt.subplots(3, 2, figsize=(20, 15))\n",
    "for i, subplot in zip(numerical, ax.flatten()):\n",
    "    sns.distplot(a = customer_df[i], label = i, kde = False, ax = subplot, bins = 10)"
   ]
  },
  {
   "cell_type": "code",
   "execution_count": null,
   "metadata": {},
   "outputs": [],
   "source": [
    "# i = 4\n",
    "# print(numerical[i])\n",
    "# customer_df[numerical[i]].describe()"
   ]
  },
  {
   "cell_type": "markdown",
   "metadata": {},
   "source": [
    "### TODO #1: EDA - Univariate Analysis\n",
    "\n",
    "### Summary:\n",
    "\n",
    "1. Bộ dữ liệu ghi lại các thông tin về khách hàng, các quan sát thời gian khách hàng sử dụng khi xem sản phẩm trên Web và trên App và Trung bình giá trị tiêu dùng hằng của khách hàng\n",
    "2. Bộ data có 500 dòng dữ liệu và 8 cột dữ liệu, trong đó có 3 cột category và 5 cột numeric\n",
    "3. Tất các các cột đều không có giá trị missing\n",
    "\n",
    "### Univariable\n",
    "\n",
    "1. Cột 'Avg. Session Length': Thời lượng trung bình 1 session của khách hàng\n",
    "* Kiểu dữ liệu: float\n",
    "* Giá trị nằm trong khoảng: (29.5, 36.139)\n",
    "* Giá trị mean và giá trị q50 khá gần nhau (33.053194, 33.082008)\n",
    "* độ lệch chuẩn std rất nhỏ (chỉ bằng 1/33 giá trị trung bình)\n",
    "* giá trị tập trung trong khoảng 32.2 đến 33.4\n",
    "> Phân phổi của Avg. Session Length khá chuẩn, không có outlier, không có giá trị missing\n",
    "\n",
    "2. Cột 'Time on App': Thời lượng trung bình 1 session của khách hàng xem bằng App\n",
    "* Kiểu dữ liệu: float\n",
    "* Giá trị nằm trong khoảng: (8.508152, 15.126994)\n",
    "* Giá trị mean và giá trị q50 khá gần nhau (12.052488, 11.983231)\n",
    "* độ lệch chuẩn std nhỏ (chỉ bằng 1/12 giá trị trung bình)\n",
    "* giá trị tập trung trong khoảng 11.2 đến 12.5\n",
    "> Phân phổi khá chuẩn, không có outlier, không có giá trị missing\n",
    "\n",
    "3. Cột 'Time on Website': Thời lượng trung bình 1 session của khách hàng xem bằng Web\n",
    "* Kiểu dữ liệu: float\n",
    "* Giá trị nằm trong khoảng: (33.913847, 40.005182)\n",
    "* Giá trị mean và giá trị q50 gần trùng nhau (37.060445, 37.069367)\n",
    "* độ lệch chuẩn std nhỏ (chỉ bằng 1/37 giá trị trung bình)\n",
    "* giá trị tập trung trong khoảng 36.3 đến 37.5\n",
    "> Phân phổi hình chuông, không có outlier, không có giá trị missing\n",
    "\n",
    "4. Cột 'Length of Membership': Tuổi thọ thành viên\n",
    "* Kiểu dữ liệu: float\n",
    "* Giá trị nằm trong khoảng: (0.269901, 6.922689)\n",
    "* Giá trị mean và giá trị q50 gần trùng nhau (3.533462, 3.533975)\n",
    "* độ lệch chuẩn std lớn 0.999278 (gần 1/4 giá trị trung bình)\n",
    "* giá trị tập trung trong khoảng 3.0 đến 4.2\n",
    "> Phân phổi hình chuông nhọn, không có outlier, không có giá trị missing\n",
    "\n",
    "5. Cột 'Yearly Amount Spent': Trung bình chi tiêu hằng năm\n",
    "* Kiểu dữ liệu: float\n",
    "* Giá trị nằm trong khoảng: (0.269901, 6.922689)\n",
    "* Giá trị mean và giá trị q50 gần trùng nhau (499.314038, 498.887875)\n",
    "* độ lệch chuẩn std lớn 79.314782(gần 1/6 giá trị trung bình)\n",
    "* giá trị tập trung trong khoảng 450 đến 550\n",
    "> Phân phổi hình chuông, không có outlier, không có giá trị missing\n",
    "\n",
    "> Bộ Data đáng tin cậy"
   ]
  },
  {
   "cell_type": "code",
   "execution_count": null,
   "metadata": {},
   "outputs": [],
   "source": [
    "## Multivariate Analysis:\n",
    "# Trình bày các tương tác thú vị giữa các biến, giải thích thêm theo ý kiến và suy nghĩ của bạn\n",
    "# Customer Yearly Amount Spent\n",
    "# Yếu tố chúng ta quan tâm nhất là Yearly Amount Spent (Số tiền giao dịch của khách hàng trong năm)\n",
    "# Tự đặt các giả thuyết về yếu tố ảnh hướng (trong bộ data) và làm các bước phân tích, vẽ các biểu đồ để tìm hiểu các giả thuyết đó"
   ]
  },
  {
   "cell_type": "code",
   "execution_count": 171,
   "metadata": {},
   "outputs": [
    {
     "data": {
      "image/png": "[encoded data removed]",
      "text/plain": [
       "<Figure size 648x504 with 2 Axes>"
      ]
     },
     "metadata": {
      "needs_background": "light"
     },
     "output_type": "display_data"
    }
   ],
   "source": [
    "# Correlation matrix\n",
    "# Set the width and height of the figure\n",
    "\n",
    "corrmat = customer_df.corr()\n",
    "f, ax = plt.subplots(figsize=(9, 7))\n",
    "sns.heatmap(corrmat,cmap = \"YlGnBu\",  annot=True ,vmin= 0, vmax=1)\n",
    "plt.show()"
   ]
  },
  {
   "cell_type": "code",
   "execution_count": null,
   "metadata": {},
   "outputs": [],
   "source": []
  },
  {
   "cell_type": "markdown",
   "metadata": {},
   "source": [
    "### TODO #1: EDA - Multivariate Analysis\n",
    "### Summary:\n",
    "\n",
    "1. Trung bình chi tiêu hằng năm của khách hàng 'Yearly Amount Spend' tỉ lệ thuận mạnh mẽ với tuổi thọ thành viên 'Length of Membership' (0.81), độ dài trung bình của session khi khách hàng lướt bắng APP 'Time on APP' (0.5) và sau đó là độ dài trung bình của mỗi lượt lướt 'Avg. Session Lenght' (0.36)\n",
    "\n",
    "2. Các thuộc tính khác không có tương quan rõ ràng với nhau\n",
    "\n",
    "### Multivariate\n",
    "\n",
    "1. Cột 'Avg. Session Length': Thời lượng trung bình 1 session của khách hàng\n",
    "* Kiểu dữ liệu: float\n",
    "* Giá trị nằm trong khoảng: (29.5, 36.139)\n"
   ]
  },
  {
   "cell_type": "markdown",
   "metadata": {},
   "source": [
    "## TODO 2: LINEAR REGRESSIONS\n",
    "Xem lại Lab về Linear Regressions. Tìm hiểu thêm các notebook khác trên Kaggle. \n",
    "\n",
    "Thực hiện bài toán Linear Regression với biến target (y) là `Yearly Amount Spent`. \n",
    "Lưu ý trình bày đầy đủ các bước:\n",
    "* Data Processing\n",
    "* Split Train & Test Data\n",
    "* Modeling\n",
    "* Evaluation"
   ]
  },
  {
   "cell_type": "markdown",
   "metadata": {},
   "source": [
    "## TODO 3: CUSTOMER CLUSTERING\n",
    "Tham khảo notebook sau: [Clustering with K-Means](https://www.kaggle.com/ryanholbrook/clustering-with-k-means#k-Means-Clustering)\n",
    "\n",
    "* Áp dụng phương pháp Clustering lên bộ data để chia customers thành n nhóm (n tuỳ theo bạn lựa chọn)\n",
    "* Trên n nhóm đã phân ra bằng clustering, trình bày chỉ số thông kê và phân phối của các biến sau: `Time on App`, `Avg. Session Length`, `Time on Website`, `Length of Membership`\n",
    "* Visualize plot các yếu tố trên theo cặp. Ví dụ như bên dưới (cluster = các nhóm khác hàng đã chia)\n",
    "![clustering](../img/clustering.png)\n",
    "* Trình bày các quyết định, chiến lược kinh doanh có thể thực hiện dựa trên kết quả của clustering để giúp tăng doanh thu."
   ]
  },
  {
   "cell_type": "markdown",
   "metadata": {},
   "source": [
    "## TODO 4 (OPTIONAL) DECISION TREE\n",
    "* Tạo biến `HighVal_Cust` (High-value Customers) là những khách hàng có `Yearly Amount Spent` > 80% percentiles của mẫu data. \n",
    "* Tham khảo notebook sau: [Decision-Tree Classifier Tutorial](https://www.kaggle.com/prashant111/decision-tree-classifier-tutorial)\n",
    "* Dùng Decision Tree để phân loại `HighVal_Cust`\n",
    "* Visualize Decision Tree giúp phân loại các khách hàng có giá trị cao.\n",
    "![decisiontree](../img/decisiontree.png)"
   ]
  }
 ],
 "metadata": {
  "kernelspec": {
   "display_name": "Python 3",
   "language": "python",
   "name": "python3"
  },
  "language_info": {
   "codemirror_mode": {
    "name": "ipython",
    "version": 3
   },
   "file_extension": ".py",
   "mimetype": "text/x-python",
   "name": "python",
   "nbconvert_exporter": "python",
   "pygments_lexer": "ipython3",
   "version": "3.8.5"
  }
 },
 "nbformat": 4,
 "nbformat_minor": 4
}
