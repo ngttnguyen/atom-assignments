{
 "cells": [
  {
   "cell_type": "code",
   "execution_count": 1,
   "metadata": {},
   "outputs": [],
   "source": [
    "# import libraries\n",
    "import pandas as pd\n",
    "import numpy as np\n",
    "import time\n",
    "from matplotlib import pyplot as plt\n",
    "import seaborn as sns\n",
    "%matplotlib inline\n",
    "pd.plotting.register_matplotlib_converters()\n",
    "\n",
    "import warnings\n",
    "warnings.filterwarnings(\"ignore\")\n",
    "\n",
    "from sklearn.preprocessing import MinMaxScaler\n",
    "from sklearn.preprocessing import StandardScaler\n",
    "from sklearn.preprocessing import LabelEncoder\n",
    "\n",
    "from sklearn.model_selection import train_test_split\n",
    "from sklearn.metrics import classification_report, confusion_matrix, accuracy_score\n",
    "from sklearn.metrics import precision_recall_curve\n",
    "\n",
    "\n",
    "from sklearn.linear_model import Lasso, LogisticRegression\n",
    "# from sklearn.metrics import accuracy_score,make_scorer, mean_squared_error, mean_absolute_error,\n",
    "\n",
    "from sklearn import datasets, linear_model, metrics\n",
    "from sklearn.tree import DecisionTreeClassifier\n",
    "from sklearn.ensemble import RandomForestClassifier\n",
    "from sklearn.naive_bayes import GaussianNB\n",
    "from sklearn.ensemble import GradientBoostingClassifier\n",
    "from xgboost import XGBClassifier\n",
    "\n",
    "\n",
    "import scikitplot as skplt\n",
    "import matplotlib.pyplot as plt"
   ]
  },
  {
   "cell_type": "markdown",
   "metadata": {},
   "source": [
    "## I. DATA Processing\n",
    "\n",
    "https://www.kaggle.com/henriqueyamahata/bank-marketing"
   ]
  },
  {
   "cell_type": "markdown",
   "metadata": {},
   "source": [
    "### Những chú ý cho quá trình xử lý\n",
    "\n",
    "1. Lược bỏ dữ liệu\n",
    "* Vẫn lấy duration ((Cột 'duration' sẽ không được quan tâm trong quá trình phân tích và xử lý))\n",
    "* Có 12 dòng trùng nhau sẽ cắt bỏ\n",
    "2. Missing:\n",
    "* các giá trị unknown của các cột khác: loan, housing, default, marital, job\n",
    "3. Outlier:\n",
    "* Age, campain, previous, cons.conf.idx\n",
    "4. Phân loại lại biến pdays, age\n",
    "5. Clustering theo 3 chỉ số pdays,previous,poutcome\n",
    "6. Sự tương quan giữa các biến:\n",
    "* Vẫn lấy cả 3 biến ((3 biến nr.employed, emp.var.rate, euribo3m là 3 biến có tương quan rất mạnh --> có thể lọc bớt để giảm chiều dữ liệu))\n"
   ]
  },
  {
   "cell_type": "markdown",
   "metadata": {},
   "source": [
    "### Cách xử lý\n",
    "1. Xóa 12 dòng dữ liệu trùng nhau\n",
    "2. Không bỏ cột nào((Loại bỏ cột duration, nr.employed))\n",
    "3. Biến 'default': khoảng 20% biến này có giá trị 'unknown' - không xác định đc là client có tín dụng xấu hay không - (yes) hay (no).\n",
    "> Vì đa số biến này cũng khó xác định nên ta sẽ không biến đổi thuộc tính này\n",
    "\n",
    "MISSING\n",
    "4. 2. Biến 'education': 4% là unknown\n",
    "> Thay thế giá trị 'unknown' --> 'university-degree'(bằng giá trị mode của cột dữ liệu)\n",
    "5. Biến 'loan' và 'housing': \n",
    "    * Tỉ lệ missing khá nhỏ: là 2.4% (unknown)\n",
    "    * Cách xử lý: mục tiêu là càng tiếp thị càng nhiều khách hàng càng tốt, ta đánh vào các giá trị mà tỉ lệ sucessful cao:\n",
    "        - loan : unknown --> no\n",
    "        - housing: unknown --> yes\n",
    "6. Biến marital:missing rất thấp 0.1%\n",
    "> unknown --> single\n",
    "7. Biến job: missing thấp 0.8\n",
    "> unknown --> student\n",
    "\n",
    "OUTLIER\n",
    "8. (I). age: thay thế những giá trị > 70 bằng 70\n",
    "Nhìn biểu đồ thấy sau 70 là outlier\n",
    "9. (II). campain: thay thế những giá trị > quantile_95 bằng quantile_95\n",
    "10. (III). previous: thay thế những giá trị > quantile_95 bằng quantile_95\n",
    "11. (IV). cons.conf.idx: thay thế những giá trị > quantile_95 bằng quantile_95\n",
    "12. (IIV). Duration: thay thế outlier sau giá trị 1500 bằng 1500 (con số này lấy từ mô hình EDA)\n",
    "\n",
    "Phân loại lại biến\n",
    "12. (I). Column 'pdays'\n",
    "* Có đến 96.3% bộ dữ liệu thuộc tính 'pdays' có giá trị '999' - ghi nhận lại đây là những khách hàng chưa được liên hệ bằng call trước đó.\n",
    "> Vì vậy đối với biến này, ta sẽ biến đổi phân loại thành 3 nhóm: 'not_previously_contacted', 'within_a_week', 'over_a_week'"
   ]
  },
  {
   "cell_type": "code",
   "execution_count": 3,
   "metadata": {},
   "outputs": [],
   "source": [
    "def remove_duplicated_row(df):\n",
    "    df = df.drop(df[df.duplicated()].index).reset_index(drop=True)\n",
    "    return(df)\n",
    "\n",
    "def remove_features(df,col_lst):\n",
    "    for col in col_lst:\n",
    "        df.pop(col)\n",
    "    return(df)\n",
    "\n",
    "def replace_missing_by_value(df,column,replaced_value,missing_value='unknown'):\n",
    "    df[column] = df[column].apply(lambda val: replaced_value if val == missing_value else val)\n",
    "    return df\n",
    "\n",
    "def replace_outlier_by_quantile(df, column, quantile_thresh = 0.95, replaced_value = None):\n",
    "    thresh_value = df[column].quantile(quantile_thresh)\n",
    "    if (replaced_value == None):\n",
    "        replaced_value = thresh_value\n",
    "        \n",
    "    df[column] = df[column].apply(lambda val: replaced_value if val > thresh_value  else val)\n",
    "    return df\n",
    "\n",
    "def replace_outlier_by_value(df, column, value_thresh, replaced_value = None):\n",
    "    if (replaced_value == None):\n",
    "        replaced_value = value_thresh\n",
    "        \n",
    "    df[column] = df[column].apply(lambda val: replaced_value if val > value_thresh else val)\n",
    "    return df\n",
    "\n",
    "def replace_missing_by_mode(df,column,missing_value='unknown'):\n",
    "    replaced_value = df[column].mode().values.tolist()[0]\n",
    "    df[column] = df[column].apply(lambda val: replaced_value if val == missing_value else val)\n",
    "    \n",
    "    return df\n",
    "\n",
    "def replace_missing_by_median(df,column,missing_value='unknown'):\n",
    "    replaced_value = df[column].median().values.tolist()[0]\n",
    "    df[column] = df[column].apply(lambda val: replaced_value if val == missing_value else val)\n",
    "    return df\n",
    "\n",
    "def transform_pdays(val):\n",
    "    transform_dict = {999:'not_previously_contacted',7: 'over_a_week',0:'within_a_week'}\n",
    "    for key in transform_dict.keys():\n",
    "        if (val >= key):\n",
    "            return transform_dict[key]\n",
    "\n",
    "def eval_class(true, predicted):\n",
    "    acc = metrics.accuracy_score(true, predicted)\n",
    "    precision = metrics.precision_score(true, predicted)\n",
    "    recall = metrics.recall_score(true, predicted)\n",
    "    f1 = metrics.f1_score(true, predicted)\n",
    "    log_loss = metrics.log_loss(true, predicted)\n",
    "    auc = metrics.roc_auc_score(true, predicted)\n",
    "    return acc, precision, recall, f1, log_loss, auc\n",
    "\n",
    "def create_evaluation_df(model_name, y_train,y_train_pred, y_test, y_test_pred):\n",
    "    eval_clm_metrics = ['Accuracy', 'Precision', 'Recall', 'F1', 'Log_loss','AUC']\n",
    "    eval_clm_train = [m + '_train' for m in eval_clm_metrics]\n",
    "    eval_clm_test = [m + '_test' for m in eval_clm_metrics]\n",
    "    dis_clm = ['Model','Accuracy_train'] + eval_clm_test + ['diff_Acc_train_test']\n",
    "    dis_clm_1 = ['Model','Accuracy_train','Accuracy_test','Precision_test','Recall_test','F1_test']\n",
    "  \n",
    "    res_clm = pd.DataFrame(data=[[model_name,*eval_class(y_train,y_train_pred),\n",
    "                                 *eval_class(y_test, y_test_pred)]],\n",
    "                          columns=['Model'] + eval_clm_train + eval_clm_test)\n",
    "    res_clm['diff_Acc_train_test'] = res_clm.apply(lambda x: (x.Accuracy_test - x.Accuracy_train)/x.Accuracy_train, axis=1)\n",
    "    \n",
    "    return(res_clm[dis_clm_1])\n",
    "\n",
    "def init_evaluation_df():\n",
    "    eval_clm_metrics = ['Accuracy', 'Precision', 'Recall', 'F1', 'Log_loss','AUC']\n",
    "    eval_clm_train = [m + '_train' for m in eval_clm_metrics]\n",
    "    eval_clm_test = [m + '_test' for m in eval_clm_metrics]\n",
    "    dis_clm = ['Model','Accuracy_train'] + eval_clm_test + ['diff_Acc_train_test']\n",
    "    dis_clm_1 = ['Model','Accuracy_train','Accuracy_test','Precision_test','Recall_test','F1_test']\n",
    "    \n",
    "    res_clm = pd.DataFrame( columns=['Model'] + eval_clm_train + eval_clm_test + ['diff_Acc_train_test'])\n",
    "\n",
    "    return(res_clm[dis_clm_1])\n",
    "        \n",
    "def data_processing_pipeline(df):\n",
    "    # remove duplicated rows\n",
    "    df = remove_duplicated_row(df)\n",
    "    \n",
    "    # remove duration and nr.employed\n",
    "#     remove_cols =['duration', 'nr.employed'] \n",
    "#     df = remove_features(df,remove_cols)\n",
    "    \n",
    "    # edu_unknown = 'unknown'\n",
    "    column = 'education'\n",
    "    replaced_value = df[column].mode().values.tolist()[0]\n",
    "    df = replace_missing_by_value(df,column,replaced_value)\n",
    "\n",
    "    # housing_unknown = 'unknown'\n",
    "    column = 'housing'\n",
    "    replaced_value  = 'yes' #df[column].mode().values.tolist()[0]\n",
    "    df = replace_missing_by_value(df,column,replaced_value)\n",
    "\n",
    "    # loan_unknown = 'unknown'\n",
    "    column = 'loan'\n",
    "    replaced_value  = 'no' # df[column].mode().values.tolist()[0]\n",
    "    df = replace_missing_by_value(df,column,replaced_value)\n",
    "\n",
    "    # marital_unknown = 'unknown'\n",
    "    column = 'marital'\n",
    "    replaced_value  = 'single' # df[column].mode().values.tolist()[0]\n",
    "    df = replace_missing_by_value(df,column,replaced_value)\n",
    "\n",
    "    # job_unknown = 'unknown'\n",
    "    column = 'job'\n",
    "    replaced_value  = 'student' # df[column].mode().values.tolist()[0]\n",
    "    df = replace_missing_by_value(df,column,replaced_value)\n",
    "\n",
    "    ## OUTlier\n",
    "    # age\n",
    "    value_thresh = 65\n",
    "    column = 'age' \n",
    "    df = replace_outlier_by_value(df,column,value_thresh)\n",
    "\n",
    "    # duration\n",
    "    column = 'duration' \n",
    "    df =  replace_outlier_by_quantile(df, column)# replace by quantile_95\n",
    "    \n",
    "    # campain\n",
    "    value_thresh = 6\n",
    "    column = 'campaign' \n",
    "    df = replace_outlier_by_value(df,column,value_thresh)\n",
    "\n",
    "    #previous\n",
    "    remove_thresh = float(0.95)\n",
    "    column = 'previous' \n",
    "    df = replace_outlier_by_quantile(df,column)\n",
    "\n",
    "    #cons.conf.idx'\n",
    "    remove_thresh = float(0.95)\n",
    "    column = 'cons.conf.idx' \n",
    "    df = replace_outlier_by_quantile(df,column)\n",
    "\n",
    "    ### PHÂN LOẠI LẠI BIẾN\n",
    "    # pdays\n",
    "    column = 'pdays'\n",
    "    df[column] = df[column].map(transform_pdays)\n",
    "    \n",
    "    return df\n",
    "\n",
    "def label_encode_pipeline(df, cat_col_lst):\n",
    "    labelencoder = LabelEncoder()\n",
    "    for column in cat_col_lst:\n",
    "        df[column] = labelencoder.fit_transform(df[column])\n",
    "    return(df)\n",
    "\n",
    "def run_model(name,model, X_train, y_train, X_test, y_test):\n",
    "    # model_eval_df : evaluation dataframe of model\n",
    "    # y_test_pred_proba: kiểu np.array - dùng để vẽ roc curve\n",
    "    \n",
    "    train_model_time = 0 # đo thời gian chạy model\n",
    "    model_eval_df = pd.DataFrame() # evaluation dataframe\n",
    "    start_time = time.time()\n",
    "    \n",
    "    model.fit(X_train,y_train)\n",
    "    \n",
    "    end_time = time.time()\n",
    "    y_test_pred = model.predict(X_test)\n",
    "    y_test_pred_proba = model.predict_proba(X_test)[:,1] #Lấy xác suất phần 1 \n",
    "    y_train_pred = model.predict(X_train)\n",
    "\n",
    "    model_eval_df = create_evaluation_df(name, y_train,y_train_pred, y_test, y_test_pred)\n",
    "    train_model_time =  end_time - start_time\n",
    "    return(model_eval_df,y_test_pred_proba)    \n",
    "\n",
    "def run_model_lst(name_lst,model_lst, X_train, y_train, X_test, y_test):\n",
    "    evalutation_df = init_evaluation_df() # evaluation dataframe\n",
    "    y_test_proba_df = pd.DataFrame() # y_test_proba for ROC curve\n",
    "\n",
    "    for model,name in zip(model_lst,name_lst):\n",
    "        model_eval_df,y_test_pred_proba = run_model(name,model, X_train, y_train, X_test, y_test)\n",
    "        \n",
    "        evalutation_df = evalutation_df.append(model_eval_df, ignore_index = True)\n",
    "        y_test_proba_df[name] = y_test_pred_proba\n",
    "    \n",
    "    return(evalutation_df,y_test_proba_df)\n",
    "\n",
    "### ROC CURVE\n",
    "\n",
    "def visualize_ROC_curves(y_test,y_pred_proba_df):\n",
    "    plt.figure(figsize = (15,6))\n",
    "    plt.plot([0, 1], [0, 1], 'k--')\n",
    "\n",
    "    # Generate ROC curve values: fpr, tpr, thresholds\n",
    "    for col in y_pred_proba_df.columns:\n",
    "        fpr1, tpr1, thresholds1 = metrics.roc_curve(y_test, y_pred_proba_df[col])\n",
    "        plt.plot(fpr1, tpr1)\n",
    "\n",
    "    plt.xlabel('False Positive Rate')\n",
    "    plt.ylabel('True Positive Rate')\n",
    "    plt.title('ROC Curve: Successful Client Classifiers')\n",
    "    plt.legend(['Base line']+ y_pred_proba_df.columns.tolist(), loc='lower right')\n",
    "    plt.show()\n",
    "\n",
    "### Recall - Precision CURVE\n",
    "def visualize_RR_curves(y_test,y_pred_proba_df):\n",
    "    plt.figure(figsize = (15,6))\n",
    "    # plt.plot([0, 1], [0, 1], 'k--')\n",
    "\n",
    "    for col in y_pred_proba_df.columns:\n",
    "        precision, recall, thresholds = precision_recall_curve(y_test, y_pred_proba_df[col])\n",
    "        plt.plot(recall,precision)\n",
    "\n",
    "    plt.xlabel('Recall')\n",
    "    plt.ylabel('Precision')\n",
    "    plt.title('Precision-Recall: Successful Client Classifier')\n",
    "    plt.legend(y_test_pred_proba_df.columns.tolist()+['Gradient_Raw'], loc='lower right')\n",
    "    plt.show()\n",
    "    \n",
    "### Calculate ROI\n",
    "def calculate_roi(call_cnt, sale_cnt,cost_per_call, roi_per_success):\n",
    "    return roi_per_success * sale_cnt  - cost_per_call * call_cnt\n",
    "\n",
    "def get_real_roi(y_test, cost_per_call = 10, roi_per_success = 20):\n",
    "    sale_cnt = (y_test == 1).sum()\n",
    "    call_cnt = len(y_test)\n",
    "    real_roi = calculate_roi(call_cnt, sale_cnt, cost_per_call, roi_per_success)\n",
    "    return real_roi\n",
    "    \n",
    "def get_pred_roi(y_test, y_test_pred,cost_per_call = 10, roi_per_success = 20):\n",
    "    sale_cnt = ((y_test == 1) & (y_test_pred == 1)).sum()\n",
    "    call_cnt = sum((y_test_pred == 1))\n",
    "    pred_roi = calculate_roi(call_cnt, sale_cnt, cost_per_call, roi_per_success)\n",
    "    return pred_roi"
   ]
  },
  {
   "cell_type": "markdown",
   "metadata": {},
   "source": [
    "### L O A D   data"
   ]
  },
  {
   "cell_type": "code",
   "execution_count": 4,
   "metadata": {},
   "outputs": [],
   "source": [
    "#### L O A D Data\n",
    "file_path = \"data/bank-additional-full.csv\"\n",
    "marketing_df = pd.read_csv(file_path,sep = \";\")"
   ]
  },
  {
   "cell_type": "markdown",
   "metadata": {},
   "source": [
    "### P R O C E S S I N G   data"
   ]
  },
  {
   "cell_type": "code",
   "execution_count": 5,
   "metadata": {},
   "outputs": [],
   "source": [
    "process_mkt_df = marketing_df.copy() \n",
    "test_size = 0.3\n",
    "\n",
    "## Processing data\n",
    "process_mkt_df = data_processing_pipeline(process_mkt_df)\n",
    "cat_cols = process_mkt_df.dtypes[process_mkt_df.dtypes == 'object'].index\n",
    "num_cols = process_mkt_df.dtypes[process_mkt_df.dtypes != 'object'].index\n",
    "\n",
    "## label encoding\n",
    "process_mkt_df = label_encode_pipeline(process_mkt_df, cat_cols)\n",
    "\n",
    "## list of models\n",
    "models = [LogisticRegression(max_iter = 300),\n",
    "#           GaussianNB(),\n",
    "          DecisionTreeClassifier(criterion='gini', max_depth=3, random_state=0),\n",
    "#           RandomForestClassifier(n_estimators=1000, max_depth=3),\n",
    "          GradientBoostingClassifier(n_estimators=1000, learning_rate=0.003),\n",
    "          XGBClassifier(n_estimators=1000, learning_rate=0.003, use_label_encoder = False)\n",
    "          ]\n",
    "names = [ 'Logistic Regressor',\n",
    "#              'Naive Bayes',\n",
    "            'Decision Tree Classifier',\n",
    "#           'Random Forest Classifier',\n",
    "          'Gradient Boost Classifier',\n",
    "          'XGBoost Classifier'\n",
    "        ]"
   ]
  },
  {
   "cell_type": "markdown",
   "metadata": {},
   "source": [
    "### R U N   with the whole data set"
   ]
  },
  {
   "cell_type": "code",
   "execution_count": 6,
   "metadata": {
    "scrolled": true
   },
   "outputs": [
    {
     "name": "stdout",
     "output_type": "stream",
     "text": [
      "[09:24:22] WARNING: C:/Users/Administrator/workspace/xgboost-win64_release_1.4.0/src/learner.cc:1095: Starting in XGBoost 1.3.0, the default evaluation metric used with the objective 'binary:logistic' was changed from 'error' to 'logloss'. Explicitly set eval_metric if you'd like to restore the old behavior.\n"
     ]
    }
   ],
   "source": [
    "#### R U N with the whole data set\n",
    "\n",
    "## split train set and test_set\n",
    "X_train, X_test, y_train, y_test = train_test_split(process_mkt_df.drop('y',axis=1), process_mkt_df['y'],\n",
    "                                                    test_size=test_size, random_state = 101)\n",
    "## standardize data\n",
    "scaler = StandardScaler()\n",
    "X_train = scaler.fit_transform(X_train)\n",
    "X_test = scaler.transform(X_test)\n",
    "\n",
    "## init data frame of evalutation and y_pred_proba\n",
    "evalutation_df = pd.DataFrame() # evaluation dataframe\n",
    "y_test_pred_proba_df = pd.DataFrame() # y_test_proba for ROC curve\n",
    "\n",
    "## run list of Models to choose the optimal model\n",
    "evalutation_df,y_test_pred_proba_df = run_model_lst(names, models, X_train, y_train, X_test, y_test)\n",
    "# evalutation_df"
   ]
  },
  {
   "cell_type": "markdown",
   "metadata": {},
   "source": [
    "### R U N   with the resampled data set"
   ]
  },
  {
   "cell_type": "code",
   "execution_count": 7,
   "metadata": {
    "scrolled": true
   },
   "outputs": [
    {
     "name": "stdout",
     "output_type": "stream",
     "text": [
      "Percentage of no clients:  0.5\n",
      "Percentage of yes clients:  0.5\n",
      "Total number of clients in resampled data:  9278\n",
      "\n",
      "Number transactions train dataset:  6494\n",
      "Number transactions test dataset:  2784\n",
      "Total number of transactions:  9278\n"
     ]
    }
   ],
   "source": [
    "def under_resample_data(data, target = 'y'):\n",
    "    X = data.iloc[:, data.columns != target]\n",
    "    y = data.iloc[:, data.columns == target]\n",
    "    # Number of data points in the minority class\n",
    "    number_records_yes = len(data[data.y == 1])\n",
    "    yes_indices = np.array(data[data.y == 1].index)\n",
    "\n",
    "    # Picking the indices of the normal classes\n",
    "    no_indices = data[data.y == 0].index\n",
    "\n",
    "    # Out of the indices we picked, randomly select \"x\" number (number_records_fraud)\n",
    "    random_no_indices = np.random.choice(no_indices, number_records_yes, replace = False)\n",
    "    random_no_indices = np.array(random_no_indices)\n",
    "\n",
    "    # Appending the 2 indices\n",
    "    under_sample_indices = np.concatenate([yes_indices,random_no_indices])\n",
    "\n",
    "    # Under sample dataset\n",
    "    under_sample_data = data.iloc[under_sample_indices,:]\n",
    "    \n",
    "    return( under_sample_data)\n",
    "\n",
    "#### R U N with the resampled data set\n",
    "\n",
    "## xử lý imbalanced\n",
    "data = process_mkt_df.copy()\n",
    "target = 'y'\n",
    "under_data = under_resample_data(data)\n",
    "\n",
    "## Split train and test undersampled dataset\n",
    "X_under_train, X_under_test, y_under_train, y_under_test = train_test_split(under_data.drop(target,axis=1),under_data[target],\n",
    "                                                                            test_size=test_size, random_state = 101)\n",
    "\n",
    "# Showing ratio\n",
    "print(\"Percentage of no clients: \", len(under_data[under_data[target] == 0])/len(under_data))\n",
    "print(\"Percentage of yes clients: \", len(under_data[under_data[target] == 1])/len(under_data))\n",
    "print(\"Total number of clients in resampled data: \", len(under_data))\n",
    "\n",
    "print(\"\")\n",
    "print(\"Number transactions train dataset: \", len(X_under_train))\n",
    "print(\"Number transactions test dataset: \", len(X_under_test))\n",
    "print(\"Total number of transactions: \", len(X_under_train)+len(X_under_test))\n",
    "\n",
    "## Standardize data\n",
    "scaler = StandardScaler()\n",
    "X_under_train = scaler.fit_transform(X_under_train)\n",
    "X_under_test = scaler.transform(X_under_test)"
   ]
  },
  {
   "cell_type": "code",
   "execution_count": 8,
   "metadata": {},
   "outputs": [
    {
     "name": "stdout",
     "output_type": "stream",
     "text": [
      "[09:25:15] WARNING: C:/Users/Administrator/workspace/xgboost-win64_release_1.4.0/src/learner.cc:1095: Starting in XGBoost 1.3.0, the default evaluation metric used with the objective 'binary:logistic' was changed from 'error' to 'logloss'. Explicitly set eval_metric if you'd like to restore the old behavior.\n"
     ]
    }
   ],
   "source": [
    "## run model list\n",
    "suffix = ' with under resampled data'\n",
    "under_names = [name + suffix for name in names ]\n",
    "## init data frame of evalutation and y_pred_proba\n",
    "under_evalutation_df = pd.DataFrame() # evaluation dataframe\n",
    "y_under_test_pred_proba_df = pd.DataFrame() # y_test_proba for ROC curve\n",
    "\n",
    "under_evalutation_df,y_under_test_pred_proba_df= run_model_lst(under_names, models, X_under_train, y_under_train\n",
    "                                                               , X_under_test, y_under_test)\n",
    "\n",
    "# under_evalutation_df"
   ]
  },
  {
   "cell_type": "markdown",
   "metadata": {},
   "source": [
    "### C O M P A R E    models"
   ]
  },
  {
   "cell_type": "code",
   "execution_count": 9,
   "metadata": {},
   "outputs": [
    {
     "data": {
      "text/html": [
       "<div>\n",
       "<style scoped>\n",
       "    .dataframe tbody tr th:only-of-type {\n",
       "        vertical-align: middle;\n",
       "    }\n",
       "\n",
       "    .dataframe tbody tr th {\n",
       "        vertical-align: top;\n",
       "    }\n",
       "\n",
       "    .dataframe thead th {\n",
       "        text-align: right;\n",
       "    }\n",
       "</style>\n",
       "<table border=\"1\" class=\"dataframe\">\n",
       "  <thead>\n",
       "    <tr style=\"text-align: right;\">\n",
       "      <th></th>\n",
       "      <th>Model</th>\n",
       "      <th>Accuracy_train</th>\n",
       "      <th>Accuracy_test</th>\n",
       "      <th>Precision_test</th>\n",
       "      <th>Recall_test</th>\n",
       "      <th>F1_test</th>\n",
       "    </tr>\n",
       "  </thead>\n",
       "  <tbody>\n",
       "    <tr>\n",
       "      <th>0</th>\n",
       "      <td>Logistic Regressor</td>\n",
       "      <td>0.908406</td>\n",
       "      <td>0.912248</td>\n",
       "      <td>0.702934</td>\n",
       "      <td>0.406073</td>\n",
       "      <td>0.514772</td>\n",
       "    </tr>\n",
       "    <tr>\n",
       "      <th>1</th>\n",
       "      <td>Decision Tree Classifier</td>\n",
       "      <td>0.906186</td>\n",
       "      <td>0.908524</td>\n",
       "      <td>0.598349</td>\n",
       "      <td>0.614407</td>\n",
       "      <td>0.606272</td>\n",
       "    </tr>\n",
       "    <tr>\n",
       "      <th>2</th>\n",
       "      <td>Gradient Boost Classifier</td>\n",
       "      <td>0.914235</td>\n",
       "      <td>0.911924</td>\n",
       "      <td>0.706030</td>\n",
       "      <td>0.396893</td>\n",
       "      <td>0.508137</td>\n",
       "    </tr>\n",
       "    <tr>\n",
       "      <th>3</th>\n",
       "      <td>XGBoost Classifier</td>\n",
       "      <td>0.924054</td>\n",
       "      <td>0.916053</td>\n",
       "      <td>0.674654</td>\n",
       "      <td>0.516949</td>\n",
       "      <td>0.585366</td>\n",
       "    </tr>\n",
       "    <tr>\n",
       "      <th>4</th>\n",
       "      <td>Logistic Regressor with under resampled data</td>\n",
       "      <td>0.865414</td>\n",
       "      <td>0.860632</td>\n",
       "      <td>0.844093</td>\n",
       "      <td>0.884173</td>\n",
       "      <td>0.863668</td>\n",
       "    </tr>\n",
       "    <tr>\n",
       "      <th>5</th>\n",
       "      <td>Decision Tree Classifier with under resampled ...</td>\n",
       "      <td>0.849399</td>\n",
       "      <td>0.841954</td>\n",
       "      <td>0.858220</td>\n",
       "      <td>0.818705</td>\n",
       "      <td>0.837997</td>\n",
       "    </tr>\n",
       "    <tr>\n",
       "      <th>6</th>\n",
       "      <td>Gradient Boost Classifier with under resampled...</td>\n",
       "      <td>0.884971</td>\n",
       "      <td>0.878592</td>\n",
       "      <td>0.848344</td>\n",
       "      <td>0.921583</td>\n",
       "      <td>0.883448</td>\n",
       "    </tr>\n",
       "    <tr>\n",
       "      <th>7</th>\n",
       "      <td>XGBoost Classifier with under resampled data</td>\n",
       "      <td>0.910533</td>\n",
       "      <td>0.886135</td>\n",
       "      <td>0.848151</td>\n",
       "      <td>0.940288</td>\n",
       "      <td>0.891846</td>\n",
       "    </tr>\n",
       "  </tbody>\n",
       "</table>\n",
       "</div>"
      ],
      "text/plain": [
       "                                               Model  Accuracy_train  \\\n",
       "0                                 Logistic Regressor        0.908406   \n",
       "1                           Decision Tree Classifier        0.906186   \n",
       "2                          Gradient Boost Classifier        0.914235   \n",
       "3                                 XGBoost Classifier        0.924054   \n",
       "4       Logistic Regressor with under resampled data        0.865414   \n",
       "5  Decision Tree Classifier with under resampled ...        0.849399   \n",
       "6  Gradient Boost Classifier with under resampled...        0.884971   \n",
       "7       XGBoost Classifier with under resampled data        0.910533   \n",
       "\n",
       "   Accuracy_test  Precision_test  Recall_test   F1_test  \n",
       "0       0.912248        0.702934     0.406073  0.514772  \n",
       "1       0.908524        0.598349     0.614407  0.606272  \n",
       "2       0.911924        0.706030     0.396893  0.508137  \n",
       "3       0.916053        0.674654     0.516949  0.585366  \n",
       "4       0.860632        0.844093     0.884173  0.863668  \n",
       "5       0.841954        0.858220     0.818705  0.837997  \n",
       "6       0.878592        0.848344     0.921583  0.883448  \n",
       "7       0.886135        0.848151     0.940288  0.891846  "
      ]
     },
     "execution_count": 9,
     "metadata": {},
     "output_type": "execute_result"
    }
   ],
   "source": [
    "evaluations = pd.DataFrame()\n",
    "evaluations = evalutation_df.append(under_evalutation_df, ignore_index = True)\n",
    "evaluations"
   ]
  },
  {
   "cell_type": "markdown",
   "metadata": {},
   "source": [
    "### ROC curve   for the group of models with undersampled data\n",
    "\n",
    "1. Vì ta cần tỉ lệ bỏ sót khách hàng thành công của mô hình phải thấp nên mặc dù accuracy score chạy trên toàn tập data cao hơn, ta sẽ chọn cách train trên tập under sampled data vì trường hợp này cho độ Precision, Recall, F1 score tốt hơn và accuracy score trên tập train và test của undersampled data cho kết quả khá khả quan (>70%).\n",
    "* Mô hình còn có thể cải thiện kết quả tiếp nếu ta cross-validaion, điều này sẽ được cải tiến ở phase sau\n",
    "\n",
    "2. Vẽ đường ROC curve cho các trường hợp train model trên tập undersampled data để lấy mô hình tối ưu"
   ]
  },
  {
   "cell_type": "code",
   "execution_count": 10,
   "metadata": {
    "scrolled": false
   },
   "outputs": [
    {
     "data": {
      "image/png": "[encoded data removed]",
      "text/plain": [
       "<Figure size 1080x432 with 1 Axes>"
      ]
     },
     "metadata": {
      "needs_background": "light"
     },
     "output_type": "display_data"
    }
   ],
   "source": [
    "visualize_ROC_curves(y_under_test,y_under_test_pred_proba_df)"
   ]
  },
  {
   "cell_type": "code",
   "execution_count": 35,
   "metadata": {},
   "outputs": [],
   "source": [
    "#visualize_RR_curves(y_under_test,y_under_test_pred_proba_df)\n",
    "#Recall - Precision curve"
   ]
  },
  {
   "cell_type": "markdown",
   "metadata": {},
   "source": [
    "### O P T I M A L    model"
   ]
  },
  {
   "cell_type": "code",
   "execution_count": 11,
   "metadata": {},
   "outputs": [
    {
     "name": "stdout",
     "output_type": "stream",
     "text": [
      "[09:25:42] WARNING: C:/Users/Administrator/workspace/xgboost-win64_release_1.4.0/src/learner.cc:1095: Starting in XGBoost 1.3.0, the default evaluation metric used with the objective 'binary:logistic' was changed from 'error' to 'logloss'. Explicitly set eval_metric if you'd like to restore the old behavior.\n"
     ]
    }
   ],
   "source": [
    "## init the optimal model\n",
    "optimal_model = XGBClassifier(n_estimators=1000, learning_rate=0.003, use_label_encoder = False)\n",
    "optimal_name = 'XGBClassifier on undersampled data'\n",
    "X_opt_train = X_under_train\n",
    "X_opt_test = X_under_test\n",
    "y_opt_train = y_under_train\n",
    "y_opt_test = y_under_test\n",
    "\n",
    "optimal_model.fit(X_opt_train,y_opt_train)\n",
    "y_opt_test_pred = optimal_model.predict(X_opt_test)"
   ]
  },
  {
   "cell_type": "code",
   "execution_count": 20,
   "metadata": {},
   "outputs": [
    {
     "data": {
      "text/plain": [
       "nr.employed       0.363244\n",
       "duration          0.153861\n",
       "cons.conf.idx     0.106858\n",
       "emp.var.rate      0.094862\n",
       "euribor3m         0.041732\n",
       "pdays             0.037713\n",
       "month             0.030656\n",
       "default           0.023774\n",
       "poutcome          0.021487\n",
       "cons.price.idx    0.021272\n",
       "contact           0.018303\n",
       "previous          0.014482\n",
       "education         0.012184\n",
       "day_of_week       0.011701\n",
       "loan              0.011448\n",
       "age               0.010703\n",
       "job               0.008232\n",
       "campaign          0.006602\n",
       "marital           0.005508\n",
       "housing           0.005377\n",
       "Name: XGBClassifier on undersampled data, dtype: float32"
      ]
     },
     "execution_count": 20,
     "metadata": {},
     "output_type": "execute_result"
    }
   ],
   "source": [
    "## Hệ số mô hình tối ưu\n",
    "features = [i for i in process_mkt_df.columns.values.tolist() if i!= target]\n",
    "opt_model_coef = pd.Series(data = optimal_model.feature_importances_, index = features, name = optimal_name)\n",
    "opt_model_coef.sort_values(ascending = False)\n",
    "## The coefficients of the optimal model"
   ]
  },
  {
   "cell_type": "code",
   "execution_count": 24,
   "metadata": {},
   "outputs": [
    {
     "data": {
      "image/png": "[encoded data removed]",
      "text/plain": [
       "<Figure size 1008x576 with 1 Axes>"
      ]
     },
     "metadata": {
      "needs_background": "light"
     },
     "output_type": "display_data"
    }
   ],
   "source": [
    "## Visualize feature importances of the optimal model\n",
    "plt.figure(figsize = (14,8))\n",
    "sns.barplot(x = opt_model_coef.sort_values(ascending = False).values , y = opt_model_coef.sort_values(ascending = False).index)\n",
    "plt.title('The barplot of feature importances')\n",
    "plt.show()\n"
   ]
  },
  {
   "cell_type": "markdown",
   "metadata": {},
   "source": [
    "### O P T I M A L    ROI"
   ]
  },
  {
   "cell_type": "code",
   "execution_count": 13,
   "metadata": {},
   "outputs": [
    {
     "name": "stdout",
     "output_type": "stream",
     "text": [
      "The gained ROI when predicting for 2784 clients\n",
      "The real revenue: -40\n",
      "The predicted revenue: 10730\n",
      "The ROI: 10770\n"
     ]
    }
   ],
   "source": [
    "### Real R O I trên tập Undersampled Test: X_opt_test\n",
    "## ROI = roi_per_success * # of sales - cost_per_call * # of calls\n",
    "\n",
    "cost_per_call = 10\n",
    "roi_per_success = 20\n",
    "\n",
    "number_client = len(y_opt_test)\n",
    "real_roi = get_real_roi(y_opt_test,cost_per_call,roi_per_success)\n",
    "pred_roi = get_pred_roi(y_opt_test, y_opt_test_pred)\n",
    "\n",
    "print('The gained ROI when predicting for {} clients'.format(number_client))\n",
    "print('The real revenue: '+str(real_roi))\n",
    "print('The predicted revenue: '+str(pred_roi))\n",
    "print('The ROI: '+str(pred_roi - real_roi))"
   ]
  },
  {
   "cell_type": "code",
   "execution_count": 19,
   "metadata": {},
   "outputs": [
    {
     "data": {
      "image/png": "[encoded data removed]",
      "text/plain": [
       "<Figure size 432x288 with 1 Axes>"
      ]
     },
     "metadata": {
      "needs_background": "light"
     },
     "output_type": "display_data"
    }
   ],
   "source": [
    "## visualize roi:\n",
    "\n",
    "rois = [real_roi, pred_roi]\n",
    "type_roi = ['Real revenue', 'Predicted revenue']\n",
    "sns.barplot(y = rois , x = type_roi)\n",
    "plt.title('Revenue predicting on about 2800 clients')\n",
    "plt.show()\n"
   ]
  },
  {
   "cell_type": "code",
   "execution_count": null,
   "metadata": {},
   "outputs": [],
   "source": [
    "# https://www.miai.vn/2021/01/18/k-fold-cross-validation-tuyet-chieu-train-khi-it-du-lieu/\n"
   ]
  }
 ],
 "metadata": {
  "kernelspec": {
   "display_name": "Python 3",
   "language": "python",
   "name": "python3"
  },
  "language_info": {
   "codemirror_mode": {
    "name": "ipython",
    "version": 3
   },
   "file_extension": ".py",
   "mimetype": "text/x-python",
   "name": "python",
   "nbconvert_exporter": "python",
   "pygments_lexer": "ipython3",
   "version": "3.8.5"
  }
 },
 "nbformat": 4,
 "nbformat_minor": 4
}
